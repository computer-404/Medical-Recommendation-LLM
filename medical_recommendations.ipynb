{
 "cells": [
  {
   "cell_type": "code",
   "execution_count": 10,
   "metadata": {},
   "outputs": [
    {
     "name": "stdout",
     "output_type": "stream",
     "text": [
      "Accuracy for Disease prediction: 0.6122448979591837\n"
     ]
    }
   ],
   "source": [
    "import pandas as pd\n",
    "from sklearn.feature_extraction.text import CountVectorizer\n",
    "from sklearn.model_selection import train_test_split\n",
    "from sklearn.naive_bayes import MultinomialNB\n",
    "from sklearn.metrics import accuracy_score\n",
    "\n",
    "# Load the data\n",
    "data = pd.read_csv('medical_data.csv')\n",
    "\n",
    "data = data.dropna()\n",
    "\n",
    "# Combine Symptoms, Causes, and Gender columns to create input features\n",
    "data['Combined'] = data['Symptoms'] + ' ' + data['Causes'] + ' ' + data['Gender']\n",
    "\n",
    "# Prepare the target variable (Disease and Medicine)\n",
    "target_disease = data['Disease']\n",
    "target_medicine = data['Medicine']\n",
    "\n",
    "# Text vectorization using CountVectorizer\n",
    "vectorizer = CountVectorizer()\n",
    "X = vectorizer.fit_transform(data['Combined'])\n",
    "\n",
    "# Split the data into training and testing sets for Disease prediction\n",
    "X_train_disease, X_test_disease, y_train_disease, y_test_disease = train_test_split(X, target_disease, test_size=0.2, random_state=42)\n",
    "\n",
    "# Train the model for Disease prediction\n",
    "disease_classifier = MultinomialNB()\n",
    "disease_classifier.fit(X_train_disease, y_train_disease)\n",
    "\n",
    "# Make predictions for Disease\n",
    "y_pred_disease = disease_classifier.predict(X_test_disease)\n",
    "\n",
    "# Split the data into training and testing sets for Medicine recommendation\n",
    "X_train_medicine, X_test_medicine, y_train_medicine, y_test_medicine = train_test_split(X, target_medicine, test_size=0.2, random_state=42)\n",
    "\n",
    "# Train the model for Medicine recommendation\n",
    "medicine_classifier = MultinomialNB()\n",
    "medicine_classifier.fit(X_train_medicine, y_train_medicine)\n",
    "\n",
    "# Make predictions for Medicine\n",
    "y_pred_medicine = medicine_classifier.predict(X_test_medicine)\n",
    "\n",
    "# Function to predict Disease and Medicine based on symptoms\n",
    "def predict_disease_and_medicine(symptoms):\n",
    "    symptoms = ' '.join(symptoms)\n",
    "    symptoms_input = vectorizer.transform([symptoms])\n",
    "    \n",
    "    predicted_disease = disease_classifier.predict(symptoms_input)\n",
    "    predicted_medicine = medicine_classifier.predict(symptoms_input)\n",
    "    \n",
    "    return predicted_disease[0], predicted_medicine[0]"
   ]
  },
  {
   "cell_type": "code",
   "execution_count": 11,
   "metadata": {},
   "outputs": [],
   "source": [
    "# Save the disease and medicine classifiers\n",
    "import pickle\n",
    "\n",
    "with open('disease_classifier.pkl', 'wb') as f:\n",
    "    pickle.dump(disease_classifier, f)\n",
    "\n",
    "with open('medicine_classifier.pkl', 'wb') as f:\n",
    "    pickle.dump(medicine_classifier, f)"
   ]
  }
 ],
 "metadata": {
  "kernelspec": {
   "display_name": "NN",
   "language": "python",
   "name": "python3"
  },
  "language_info": {
   "codemirror_mode": {
    "name": "ipython",
    "version": 3
   },
   "file_extension": ".py",
   "mimetype": "text/x-python",
   "name": "python",
   "nbconvert_exporter": "python",
   "pygments_lexer": "ipython3",
   "version": "3.10.13"
  }
 },
 "nbformat": 4,
 "nbformat_minor": 2
}
